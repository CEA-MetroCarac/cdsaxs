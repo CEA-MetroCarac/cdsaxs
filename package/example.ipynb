{
 "cells": [
  {
   "cell_type": "code",
   "execution_count": 9,
   "metadata": {},
   "outputs": [],
   "source": [
    "from Fitter import Fitter\n",
    "from StackedTrapezoidSimulation import StackedTrapezoidSimulation\n",
    "import numpy as np"
   ]
  },
  {
   "cell_type": "markdown",
   "metadata": {},
   "source": [
    "### How to do a diffraction simulation using cdsaxs package?"
   ]
  },
  {
   "cell_type": "markdown",
   "metadata": {},
   "source": [
    "#### Prepare the data"
   ]
  },
  {
   "cell_type": "code",
   "execution_count": 2,
   "metadata": {},
   "outputs": [],
   "source": [
    "pitch = 100 #nm distance between two trapezoidal bars\n",
    "qzs = np.linspace(-0.1, 0.1, 20)\n",
    "qxs = 2 * np.pi / pitch * np.ones_like(qzs)\n",
    "\n",
    "# Define initial parameters and multiples\n",
    "\n",
    "#Initial parameters\n",
    "dwx = 0.1\n",
    "dwz = 0.1\n",
    "i0 = 10\n",
    "bkg = 0.1\n",
    "y1 = 0\n",
    "height = [23.48]\n",
    "bot_cd = 54.6\n",
    "swa = [85]\n",
    "\n",
    "langle = np.deg2rad(np.asarray(swa))\n",
    "rangle = np.deg2rad(np.asarray(swa))\n",
    "\n",
    "#simulation data\n",
    "params = {'heights': height,\n",
    "            'langles': langle,\n",
    "            'rangles': rangle,\n",
    "            'y1': y1,\n",
    "            'bot_cd': bot_cd,\n",
    "            'dwx': dwx,\n",
    "            'dwz': dwz,\n",
    "            'i0': i0,\n",
    "            'bkg_cste': bkg\n",
    "            }"
   ]
  },
  {
   "cell_type": "markdown",
   "metadata": {},
   "source": [
    "#### Create instance of the Simulation class and call right method"
   ]
  },
  {
   "cell_type": "code",
   "execution_count": 3,
   "metadata": {},
   "outputs": [],
   "source": [
    "Simulation1 = StackedTrapezoidSimulation(xp=np, qys=qxs, qzs=qzs)\n",
    "\n",
    "intensity = Simulation1.simulate_diffraction(params=params)"
   ]
  },
  {
   "cell_type": "markdown",
   "metadata": {},
   "source": [
    "## How to fit the data using cdsaxs package?"
   ]
  },
  {
   "cell_type": "markdown",
   "metadata": {},
   "source": [
    "#### Prepare the data"
   ]
  },
  {
   "cell_type": "code",
   "execution_count": 4,
   "metadata": {},
   "outputs": [],
   "source": [
    "initial_params = {'heights': {'value': height, 'variation': 10E-5},\n",
    "                    'langles': {'value': langle, 'variation': 10E-5},\n",
    "                    'rangles': {'value': rangle, 'variation': 10E-5},\n",
    "                    'y1': {'value': y1, 'variation': 10E-5},\n",
    "                    'bot_cd': {'value': bot_cd, 'variation': 10E-5},\n",
    "                    'dwx': {'value': dwx, 'variation': 10E-5},\n",
    "                    'dwz': {'value': dwz, 'variation': 10E-5},\n",
    "                    'i0': {'value': i0, 'variation': 10E-5},\n",
    "                    'bkg_cste': {'value': bkg, 'variation': 10E-5}\n",
    "                    }"
   ]
  },
  {
   "cell_type": "markdown",
   "metadata": {},
   "source": [
    "#### First create an instance of the Simulation class and pass it to the Fitter class along with data to fit"
   ]
  },
  {
   "cell_type": "code",
   "execution_count": 5,
   "metadata": {},
   "outputs": [],
   "source": [
    "Simulation2 = StackedTrapezoidSimulation(xp=np, qys=qxs, qzs=qzs, initial_guess=initial_params)\n",
    "\n",
    "Fitter1 = Fitter(Simulation=Simulation2, exp_data=intensity)"
   ]
  },
  {
   "cell_type": "markdown",
   "metadata": {},
   "source": [
    "#### Then call the fit method of the Fitter class that you want"
   ]
  },
  {
   "cell_type": "code",
   "execution_count": 10,
   "metadata": {},
   "outputs": [
    {
     "name": "stderr",
     "output_type": "stream",
     "text": [
      "100%|██████████| 10/10 [00:00<00:00, 949.50it/s]"
     ]
    },
    {
     "name": "stdout",
     "output_type": "stream",
     "text": [
      "({'heights': array([23.47580748]), 'langles': array([1.49969171]), 'rangles': array([1.5007996]), 'y1': array([0.00865427]), 'bot_cd': array([54.58113218]), 'dwx': array([0.09739605]), 'dwz': array([0.10082852]), 'i0': array([10.0032301]), 'bkg_cste': array([0.08501682])}, 0.013085433289806048)\n",
      "{'heights': array([23.49210758]), 'langles': array([1.46705474]), 'rangles': array([1.4850953]), 'y1': array([-0.00760763]), 'bot_cd': array([54.61924443]), 'dwx': array([0.10617201]), 'dwz': array([0.09972726]), 'i0': array([10.00523632]), 'bkg_cste': array([0.0921605])}\n"
     ]
    },
    {
     "name": "stderr",
     "output_type": "stream",
     "text": [
      "\n"
     ]
    }
   ],
   "source": [
    "cmaes = Fitter1.cmaes(sigma=100, ngen=10, popsize=10, mu=10, n_default=9, restarts=10, tolhistfun=10, ftarget=10, restart_from_best=True, verbose=False, dir_save=None)\n",
    "mcmc = Fitter1.mcmc(N=9, sigma = np.asarray([100] * 9), nsteps=10, nwalkers=18, test=True)\n",
    "\n",
    "print(cmaes)\n",
    "print(mcmc)"
   ]
  }
 ],
 "metadata": {
  "kernelspec": {
   "display_name": "Python 3",
   "language": "python",
   "name": "python3"
  },
  "language_info": {
   "codemirror_mode": {
    "name": "ipython",
    "version": 3
   },
   "file_extension": ".py",
   "mimetype": "text/x-python",
   "name": "python",
   "nbconvert_exporter": "python",
   "pygments_lexer": "ipython3",
   "version": "3.11.8"
  }
 },
 "nbformat": 4,
 "nbformat_minor": 2
}
