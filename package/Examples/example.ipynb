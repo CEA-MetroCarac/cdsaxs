{
 "cells": [
  {
   "cell_type": "code",
   "execution_count": 1,
   "metadata": {},
   "outputs": [],
   "source": [
    "from cdsaxs_fitting.fitter import Fitter\n",
    "from cdsaxs_fitting.simulations.stacked_trapezoid import StackedTrapezoidSimulation\n",
    "import numpy as np"
   ]
  },
  {
   "cell_type": "markdown",
   "metadata": {},
   "source": [
    "### How to do a diffraction simulation using cdsaxs package?"
   ]
  },
  {
   "cell_type": "markdown",
   "metadata": {},
   "source": [
    "#### Prepare the data"
   ]
  },
  {
   "cell_type": "code",
   "execution_count": 2,
   "metadata": {},
   "outputs": [],
   "source": [
    "pitch = 100 #nm distance between two trapezoidal bars\n",
    "qzs = np.linspace(-0.1, 0.1, 10)\n",
    "qxs = 2 * np.pi / pitch * np.ones_like(qzs)\n",
    "\n",
    "# Define initial parameters and multiples\n",
    "\n",
    "#Initial parameters\n",
    "dwx = 0.1\n",
    "dwz = 0.1\n",
    "i0 = 10\n",
    "bkg = 0.1\n",
    "y1 = 0.\n",
    "height = [20.]\n",
    "bot_cd = 40.\n",
    "swa = [90.]\n",
    "\n",
    "langle = np.deg2rad(np.asarray(swa))\n",
    "rangle = np.deg2rad(np.asarray(swa))\n",
    "\n",
    "#simulation data\n",
    "i_params = {'heights': np.asarray(height),\n",
    "            'langles': langle,\n",
    "            'rangles': rangle,\n",
    "            'y1': y1,\n",
    "            'bot_cd': bot_cd,\n",
    "            'dwx': dwx,\n",
    "            'dwz': dwz,\n",
    "            'i0': i0,\n",
    "            'bkg_cste': bkg\n",
    "            }"
   ]
  },
  {
   "cell_type": "markdown",
   "metadata": {},
   "source": [
    "#### Create instance of the Simulation class and call right method"
   ]
  },
  {
   "cell_type": "code",
   "execution_count": 3,
   "metadata": {},
   "outputs": [],
   "source": [
    "Simulation1 = StackedTrapezoidSimulation(qys=qxs, qzs=qzs)\n",
    "\n",
    "intensity = Simulation1.simulate_diffraction(params=i_params)"
   ]
  },
  {
   "cell_type": "markdown",
   "metadata": {},
   "source": [
    "## How to fit the data using cdsaxs package?"
   ]
  },
  {
   "cell_type": "markdown",
   "metadata": {},
   "source": [
    "#### Prepare the data"
   ]
  },
  {
   "cell_type": "code",
   "execution_count": 4,
   "metadata": {},
   "outputs": [],
   "source": [
    "initial_params = {'heights': {'value': height, 'variation': 10E-5},\n",
    "                    'langles': {'value': langle, 'variation': 10E-5},\n",
    "                    'rangles': {'value': rangle, 'variation': 10E-5},\n",
    "                    'y1': {'value': y1, 'variation': 10E-5},\n",
    "                    'bot_cd': {'value': bot_cd, 'variation': 10E-5},\n",
    "                    'dwx': {'value': dwx, 'variation': 10E-5},\n",
    "                    'dwz': {'value': dwz, 'variation': 10E-5},\n",
    "                    'i0': {'value': i0, 'variation': 10E-5},\n",
    "                    'bkg_cste': {'value': bkg, 'variation': 10E-5}\n",
    "                    }"
   ]
  },
  {
   "cell_type": "markdown",
   "metadata": {},
   "source": [
    "#### First create an instance of the Simulation class and pass it to the Fitter class along with data to fit"
   ]
  },
  {
   "cell_type": "code",
   "execution_count": 5,
   "metadata": {},
   "outputs": [],
   "source": [
    "Simulation2 = StackedTrapezoidSimulation(use_gpu=False, qys=qxs, qzs=qzs, initial_guess=initial_params)\n",
    "\n",
    "Fitter1 = Fitter(Simulation=Simulation2, exp_data=intensity)"
   ]
  },
  {
   "cell_type": "markdown",
   "metadata": {},
   "source": [
    "#### Then call the fit method of the Fitter class that you want"
   ]
  },
  {
   "cell_type": "code",
   "execution_count": 6,
   "metadata": {},
   "outputs": [],
   "source": [
    "# cmaes = Fitter1.cmaes(sigma=100, ngen=10, popsize=10, mu=10, n_default=9, restarts=10, tolhistfun=10E-5, ftarget=10, restart_from_best=True, verbose=False, dir_save=None)\n",
    "# mcmc = Fitter1.mcmc(N=9, sigma = np.asarray([100] * 9), nsteps=1000, nwalkers=18, test=True)\n",
    "\n",
    "# # print(cmaes)\n",
    "# print(mcmc)"
   ]
  },
  {
   "cell_type": "code",
   "execution_count": 7,
   "metadata": {},
   "outputs": [
    {
     "name": "stderr",
     "output_type": "stream",
     "text": [
      "  0%|          | 0/1000 [00:00<?, ?it/s]"
     ]
    },
    {
     "name": "stderr",
     "output_type": "stream",
     "text": [
      "/nobackup/nd276333/emcee_env/lib/python3.11/site-packages/emcee/moves/red_blue.py:99: RuntimeWarning: invalid value encountered in scalar subtract\n",
      "  lnpdiff = f + nlp - state.log_prob[j]\n",
      "100%|██████████| 1000/1000 [00:00<00:00, 1006.48it/s]\n"
     ]
    }
   ],
   "source": [
    "best_fit, fitness = Fitter1.cmaes(sigma=100, ngen=10, popsize=10, mu=10, n_default=9, restarts=10, tolhistfun=10E-5, ftarget=10, restart_from_best=True, verbose=False, dir_save=None)\n",
    "\n",
    "mcmc = Fitter1.mcmc(N=9, sigma = np.asarray([100] * 9), nsteps=1000, nwalkers=60, test=True)"
   ]
  },
  {
   "cell_type": "code",
   "execution_count": 8,
   "metadata": {},
   "outputs": [
    {
     "name": "stdout",
     "output_type": "stream",
     "text": [
      "[19.995233415100618, 1.584052223323795, 1.575055538035693, 0.009383924787771784, 40.005566557445455, 0.098383055398323, 0.113268054573527, 9.996547935024337, 0.08071023039907517]\n",
      "{'heights': array([19.99897643]), 'langles': array([1.56440585]), 'rangles': array([1.56440908]), 'y1': array([0.03958829]), 'bot_cd': array([40.19317413]), 'dwx': array([0.14303898]), 'dwz': array([0.07878735]), 'i0': array([9.99623048]), 'bkg_cste': array([0.18677022])}\n"
     ]
    }
   ],
   "source": [
    "print(Fitter1.best_fit_cmaes)\n",
    "print(mcmc)"
   ]
  }
 ],
 "metadata": {
  "kernelspec": {
   "display_name": "Python 3",
   "language": "python",
   "name": "python3"
  },
  "language_info": {
   "codemirror_mode": {
    "name": "ipython",
    "version": 3
   },
   "file_extension": ".py",
   "mimetype": "text/x-python",
   "name": "python",
   "nbconvert_exporter": "python",
   "pygments_lexer": "ipython3",
   "version": "3.11.8"
  }
 },
 "nbformat": 4,
 "nbformat_minor": 2
}
