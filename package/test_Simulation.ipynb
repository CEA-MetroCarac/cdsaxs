{
 "cells": [
  {
   "cell_type": "code",
   "execution_count": 1,
   "metadata": {},
   "outputs": [],
   "source": [
    "##combine both the geometry and diffraction in one class maybe call it the simulation class\n",
    "#use dictionary to get the info from the user and keep it as an attribute of the class\n",
    "#it should be general meaning that no matter the number of parametres cmaes should run\n",
    "import numpy as np\n",
    "import cupy as cp\n",
    "from Simulation import TrapezoidGeometry\n"
   ]
  },
  {
   "cell_type": "code",
   "execution_count": 2,
   "metadata": {},
   "outputs": [
    {
     "ename": "TypeError",
     "evalue": "TrapezoidGeometry.calculate_form_factor() got multiple values for argument 'qys'",
     "output_type": "error",
     "traceback": [
      "\u001b[0;31m---------------------------------------------------------------------------\u001b[0m",
      "\u001b[0;31mTypeError\u001b[0m                                 Traceback (most recent call last)",
      "Cell \u001b[0;32mIn[2], line 31\u001b[0m\n\u001b[1;32m     18\u001b[0m params \u001b[38;5;241m=\u001b[39m {\u001b[38;5;124m'\u001b[39m\u001b[38;5;124mheight\u001b[39m\u001b[38;5;124m'\u001b[39m: height,\n\u001b[1;32m     19\u001b[0m            \u001b[38;5;124m'\u001b[39m\u001b[38;5;124mlangle\u001b[39m\u001b[38;5;124m'\u001b[39m: langle, \n\u001b[1;32m     20\u001b[0m            \u001b[38;5;124m'\u001b[39m\u001b[38;5;124mrangle\u001b[39m\u001b[38;5;124m'\u001b[39m: rangle, \n\u001b[0;32m   (...)\u001b[0m\n\u001b[1;32m     25\u001b[0m            \u001b[38;5;124m'\u001b[39m\u001b[38;5;124mi0\u001b[39m\u001b[38;5;124m'\u001b[39m: i0, \n\u001b[1;32m     26\u001b[0m            \u001b[38;5;124m'\u001b[39m\u001b[38;5;124mbkg_cste\u001b[39m\u001b[38;5;124m'\u001b[39m: bkg}\n\u001b[1;32m     28\u001b[0m trapezoid \u001b[38;5;241m=\u001b[39m TrapezoidGeometry(np)\n\u001b[0;32m---> 31\u001b[0m form_factor \u001b[38;5;241m=\u001b[39m trapezoid\u001b[38;5;241m.\u001b[39mcorrect_form_factor(qys\u001b[38;5;241m=\u001b[39mqxs, qzs\u001b[38;5;241m=\u001b[39mqzs, params\u001b[38;5;241m=\u001b[39mparams)\n\u001b[1;32m     33\u001b[0m \u001b[38;5;28mprint\u001b[39m(form_factor)\n",
      "File \u001b[0;32m/nobackup/nd276333/Workspace/cdsaxs/package/Simulation.py:199\u001b[0m, in \u001b[0;36mTrapezoidGeometry.correct_form_factor\u001b[0;34m(self, qys, qzs, params)\u001b[0m\n\u001b[1;32m    192\u001b[0m \u001b[38;5;28;01mdef\u001b[39;00m \u001b[38;5;21mcorrect_form_factor\u001b[39m(\u001b[38;5;28mself\u001b[39m, qys, qzs, params):\n\u001b[1;32m    193\u001b[0m \u001b[38;5;250m    \u001b[39m\u001b[38;5;124;03m\"\"\"\u001b[39;00m\n\u001b[1;32m    194\u001b[0m \u001b[38;5;124;03m    @param\u001b[39;00m\n\u001b[1;32m    195\u001b[0m \u001b[38;5;124;03m    params: a dictionary containing all the parameters needed to calculate the form factor\u001b[39;00m\n\u001b[1;32m    196\u001b[0m \u001b[38;5;124;03m    @return\u001b[39;00m\n\u001b[1;32m    197\u001b[0m \u001b[38;5;124;03m    form_factor: a 1d array of floats\u001b[39;00m\n\u001b[1;32m    198\u001b[0m \u001b[38;5;124;03m    \"\"\"\u001b[39;00m\n\u001b[0;32m--> 199\u001b[0m     form_factor \u001b[38;5;241m=\u001b[39m \u001b[38;5;28mself\u001b[39m\u001b[38;5;241m.\u001b[39mcalculate_form_factor(\u001b[38;5;28mself\u001b[39m, qys\u001b[38;5;241m=\u001b[39mqys, qzs\u001b[38;5;241m=\u001b[39mqzs, params\u001b[38;5;241m=\u001b[39mparams)\n\u001b[1;32m    200\u001b[0m     dwx \u001b[38;5;241m=\u001b[39m params[\u001b[38;5;124m'\u001b[39m\u001b[38;5;124mdwx\u001b[39m\u001b[38;5;124m'\u001b[39m]\n\u001b[1;32m    201\u001b[0m     dwz \u001b[38;5;241m=\u001b[39m params[\u001b[38;5;124m'\u001b[39m\u001b[38;5;124mdwz\u001b[39m\u001b[38;5;124m'\u001b[39m]\n",
      "\u001b[0;31mTypeError\u001b[0m: TrapezoidGeometry.calculate_form_factor() got multiple values for argument 'qys'"
     ]
    }
   ],
   "source": [
    "pitch = 100 #nm distance between two trapezoidal bars\n",
    "qzs = np.linspace(-0.1, 0.1, 120)\n",
    "qxs = 2 * np.pi / pitch * np.ones_like(qzs)\n",
    "\n",
    "# Define initial parameters and multiples\n",
    "dwx = [0.1]\n",
    "dwz = [0.1]\n",
    "i0 = 10\n",
    "bkg = 0.1\n",
    "height = [23.48, 23.45]\n",
    "bot_cd = [54.6, 54.2]\n",
    "swa = [[85, 82, 83],[87, 85, 86]]\n",
    "\n",
    "langle = np.deg2rad(np.asarray(swa))\n",
    "rangle = np.deg2rad(np.asarray(swa))\n",
    "\n",
    "\n",
    "params = {'height': height,\n",
    "           'langle': langle, \n",
    "           'rangle': rangle, \n",
    "           'y1': 0, \n",
    "           'bot_cd': bot_cd,  \n",
    "           'dwx': dwx, \n",
    "           'dwz': dwz, \n",
    "           'i0': i0, \n",
    "           'bkg_cste': bkg}\n",
    "\n",
    "trapezoid = TrapezoidGeometry(np)\n",
    "\n",
    "\n",
    "form_factor = trapezoid.correct_form_factor(qys=qxs, qzs=qzs, params=params)\n",
    "\n",
    "print(form_factor)"
   ]
  },
  {
   "cell_type": "code",
   "execution_count": 3,
   "metadata": {},
   "outputs": [
    {
     "name": "stdout",
     "output_type": "stream",
     "text": [
      "arr_1d is a 1D array\n",
      "arr_2d is a 2D array\n"
     ]
    }
   ],
   "source": [
    "import numpy as np\n",
    "\n",
    "# Create an example array\n",
    "arr_1d = np.array([1, 2, 3])  # 1D array\n",
    "arr_2d = np.array([[1, 2, 3], [4, 5, 6]])  # 2D array\n",
    "\n",
    "# Check if array is 1D\n",
    "if arr_1d.ndim == 1:\n",
    "    print(\"arr_1d is a 1D array\")\n",
    "else:\n",
    "    print(\"arr_1d is not a 1D array\")\n",
    "\n",
    "# Check if array is 2D\n",
    "if arr_2d.ndim == 2:\n",
    "    print(\"arr_2d is a 2D array\")\n",
    "else:\n",
    "    print(\"arr_2d is not a 2D array\")\n"
   ]
  }
 ],
 "metadata": {
  "kernelspec": {
   "display_name": "Python 3",
   "language": "python",
   "name": "python3"
  },
  "language_info": {
   "codemirror_mode": {
    "name": "ipython",
    "version": 3
   },
   "file_extension": ".py",
   "mimetype": "text/x-python",
   "name": "python",
   "nbconvert_exporter": "python",
   "pygments_lexer": "ipython3",
   "version": "3.11.8"
  }
 },
 "nbformat": 4,
 "nbformat_minor": 2
}
